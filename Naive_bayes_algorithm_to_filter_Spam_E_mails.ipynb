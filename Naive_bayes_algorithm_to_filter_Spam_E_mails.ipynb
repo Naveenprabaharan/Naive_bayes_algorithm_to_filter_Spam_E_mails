{
  "nbformat": 4,
  "nbformat_minor": 0,
  "metadata": {
    "colab": {
      "name": "Naive bayes algorithm to filter Spam E-mails.ipynb",
      "provenance": [],
      "collapsed_sections": []
    },
    "kernelspec": {
      "name": "python3",
      "display_name": "Python 3"
    },
    "language_info": {
      "name": "python"
    }
  },
  "cells": [
    {
      "cell_type": "code",
      "execution_count": null,
      "metadata": {
        "id": "JmcVz-dPy_32"
      },
      "outputs": [],
      "source": [
        "# import library\n",
        "import numpy as np\n",
        "import matplotlib.pyplot as plt\n",
        "import pandas as pd"
      ]
    },
    {
      "cell_type": "code",
      "source": [
        "#import dataset\n",
        "dataset = pd.read_csv('spam.csv',encoding = \"ISO-8859-1\")"
      ],
      "metadata": {
        "id": "sYfnJ-6ZzU6V"
      },
      "execution_count": null,
      "outputs": []
    },
    {
      "cell_type": "code",
      "source": [
        "# import CountVectorizer\n",
        "from sklearn.feature_extraction.text import CountVectorizer\n",
        "vectorizer = CountVectorizer()\n",
        "X = vectorizer.fit_transform(dataset['v2'].values)\n",
        "y = dataset['v1'].values\n",
        "\n",
        "#labeling the output\n",
        "from sklearn.preprocessing import LabelEncoder\n",
        "\n",
        "le = LabelEncoder()\n",
        "y = le.fit_transform(y)"
      ],
      "metadata": {
        "id": "wtOUH7myZw70"
      },
      "execution_count": null,
      "outputs": []
    },
    {
      "cell_type": "code",
      "source": [
        "#split dataset train and test\n",
        "from sklearn.model_selection import train_test_split\n",
        "X_train,X_test,y_train,y_test = train_test_split(X, y ,test_size=0.2, random_state = 0)"
      ],
      "metadata": {
        "id": "C_p6wTVt2GI1"
      },
      "execution_count": null,
      "outputs": []
    },
    {
      "cell_type": "code",
      "source": [
        "# train dataset\n",
        "from sklearn.naive_bayes import MultinomialNB\n",
        "classifier = MultinomialNB()\n",
        "classifier.fit(X_train, y_train)"
      ],
      "metadata": {
        "colab": {
          "base_uri": "https://localhost:8080/"
        },
        "id": "jtj3u8me2Ljh",
        "outputId": "95296bbe-9893-4145-8b24-b685e9b88efd"
      },
      "execution_count": null,
      "outputs": [
        {
          "output_type": "execute_result",
          "data": {
            "text/plain": [
              "MultinomialNB()"
            ]
          },
          "metadata": {},
          "execution_count": 70
        }
      ]
    },
    {
      "cell_type": "code",
      "source": [
        "#checking test dataset\n",
        "y_pred = classifier.predict(X_test)\n",
        "\n",
        "# accuracy_score\n",
        "from sklearn import metrics\n",
        "print(\"Accuracy Score : \",metrics.accuracy_score(y_test, y_pred))\n",
        "\n",
        "# confusion_matrix\n",
        "print(\"confusion_matrix : \\n\",metrics.confusion_matrix(y_test, y_pred))"
      ],
      "metadata": {
        "id": "aiFbkKyA2YNP",
        "colab": {
          "base_uri": "https://localhost:8080/"
        },
        "outputId": "0faf574d-39ed-4a57-a614-b81e0cf3f513"
      },
      "execution_count": null,
      "outputs": [
        {
          "output_type": "stream",
          "name": "stdout",
          "text": [
            "Accuracy Score :  0.9829596412556054\n",
            "confusion_matrix : \n",
            " [[939  10]\n",
            " [  9 157]]\n"
          ]
        }
      ]
    },
    {
      "cell_type": "code",
      "source": [
        "query = [input(\"enter the text\")]\n",
        "query = vectorizer.transform(query) \n",
        "output = classifier.predict(query)\n",
        "if(output[0]==1):\n",
        "  print(\"spam\")\n",
        "else:\n",
        "  print(\"ham\")"
      ],
      "metadata": {
        "colab": {
          "base_uri": "https://localhost:8080/"
        },
        "id": "Qexs9N1kiraP",
        "outputId": "d0a0b244-4efc-47c8-fdd5-a244314718cf"
      },
      "execution_count": null,
      "outputs": [
        {
          "output_type": "stream",
          "name": "stdout",
          "text": [
            "enter the texthi how are you?\n",
            "ham\n"
          ]
        }
      ]
    },
    {
      "cell_type": "markdown",
      "source": [
        "# Full code"
      ],
      "metadata": {
        "id": "1FxHwdyDjRLK"
      }
    },
    {
      "cell_type": "code",
      "source": [
        "import numpy as np\n",
        "import matplotlib.pyplot as plt\n",
        "import pandas as pd\n",
        "dataset = pd.read_csv('spam.csv',encoding = \"ISO-8859-1\")\n",
        "from sklearn.feature_extraction.text import CountVectorizer\n",
        "vectorizer = CountVectorizer()\n",
        "X = vectorizer.fit_transform(dataset['v2'].values)\n",
        "y = dataset['v1'].values\n",
        "from sklearn.naive_bayes import MultinomialNB\n",
        "classifier = MultinomialNB()\n",
        "classifier.fit(X, y)\n",
        "query = [input(\"enter the text\")]\n",
        "query = vectorizer.transform(query) \n",
        "output = classifier.predict(query)\n",
        "print(output)\n"
      ],
      "metadata": {
        "id": "og8l5AamjQuk"
      },
      "execution_count": null,
      "outputs": []
    }
  ]
}